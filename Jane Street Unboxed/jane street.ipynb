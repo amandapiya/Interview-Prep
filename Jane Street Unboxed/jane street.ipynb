{
 "cells": [
  {
   "cell_type": "code",
   "execution_count": 234,
   "metadata": {
    "scrolled": false
   },
   "outputs": [],
   "source": [
    "import math\n",
    "f = open(\"input.txt\", \"r\")\n",
    "l = f.readline()\n",
    "numObstacles, numCommands = l.split()\n",
    "\n",
    "obstacles = {}\n",
    "for i in range(int(numObstacles)):\n",
    "    l = f.readline()\n",
    "    x, y = l.split()\n",
    "    obstacles[int(x)] = int(y)"
   ]
  },
  {
   "cell_type": "code",
   "execution_count": 235,
   "metadata": {},
   "outputs": [],
   "source": [
    "'''\n",
    "def pathlength(x, y):\n",
    "    return math.sqrt(x**2 + y**2)\n",
    "'''\n",
    "\n",
    "def moveForward(posX, posY, x_move, y_move, quantity):\n",
    "    for i in range(quantity):\n",
    "        newX, newY = posX, posY\n",
    "        newX += x_move\n",
    "        newY += y_move\n",
    "        if obstacles.get(newX) != newY:\n",
    "            posX, posY = newX, newY\n",
    "        else:\n",
    "            return posX, posY\n",
    "    return posX, posY"
   ]
  },
  {
   "cell_type": "code",
   "execution_count": 236,
   "metadata": {},
   "outputs": [],
   "source": [
    "maxlength = posX = posY =  0\n",
    "x_move, y_move = 0, 1   #-1 left, +1 right  #-1 down, +1 up\n",
    "\n",
    "for i in range(int(numCommands)):\n",
    "    line = f.readline()\n",
    "    for l in line.split():\n",
    "        if l.isdigit():\n",
    "            posX, posY = moveForward(posX, posY, x_move, y_move, int(l))\n",
    "            maxlength = max(maxlength, math.sqrt(posX**2 + posY**2))\n",
    "        else:\n",
    "            if l == 'L':\n",
    "                if x_move == 0:\n",
    "                    x_move, y_move = -y_move, 0\n",
    "                else:\n",
    "                    y_move, x_move = x_move, 0\n",
    "            if l == 'R':\n",
    "                if x_move == 0:\n",
    "                    x_move, y_move = y_move, 0\n",
    "                else:\n",
    "                    y_move, x_move = -x_move, 0"
   ]
  },
  {
   "cell_type": "code",
   "execution_count": 237,
   "metadata": {},
   "outputs": [
    {
     "name": "stdout",
     "output_type": "stream",
     "text": [
      "506.44\n"
     ]
    }
   ],
   "source": [
    "print(\"%.2f\" % maxlength)\n",
    "f.close()"
   ]
  },
  {
   "cell_type": "code",
   "execution_count": null,
   "metadata": {},
   "outputs": [],
   "source": []
  }
 ],
 "metadata": {
  "kernelspec": {
   "display_name": "Python 3",
   "language": "python",
   "name": "python3"
  },
  "language_info": {
   "codemirror_mode": {
    "name": "ipython",
    "version": 3
   },
   "file_extension": ".py",
   "mimetype": "text/x-python",
   "name": "python",
   "nbconvert_exporter": "python",
   "pygments_lexer": "ipython3",
   "version": "3.8.3"
  }
 },
 "nbformat": 4,
 "nbformat_minor": 4
}
