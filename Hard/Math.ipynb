{
 "cells": [
  {
   "cell_type": "markdown",
   "metadata": {},
   "source": [
    "# Next Prime, isPrime\n"
   ]
  },
  {
   "cell_type": "code",
   "execution_count": 1,
   "metadata": {},
   "outputs": [],
   "source": [
    "import math\n",
    "\n",
    "def isPrime(n):\n",
    "    if (n <= 1):\n",
    "        return False\n",
    "    if (n <= 3):\n",
    "        return True\n",
    "    \n",
    "    if (n % 2 == 0 or n % 3 == 0):\n",
    "        return False\n",
    "    \n",
    "    for i in range(5, int(math.sqrt(n)+1), 6):  # 5 11 17 23 (+2)\n",
    "        if (n % i == 0 or n % (i+2) == 0):\n",
    "            return False\n",
    "    return True\n",
    "\n",
    "def nextPrime(N):\n",
    "    if (N <= 1):\n",
    "        return 2    \n",
    "    while (True):\n",
    "        N += 1\n",
    "        if(isPrime(N)):\n",
    "            return N"
   ]
  },
  {
   "cell_type": "code",
   "execution_count": null,
   "metadata": {},
   "outputs": [],
   "source": []
  }
 ],
 "metadata": {
  "kernelspec": {
   "display_name": "Python 3",
   "language": "python",
   "name": "python3"
  },
  "language_info": {
   "codemirror_mode": {
    "name": "ipython",
    "version": 3
   },
   "file_extension": ".py",
   "mimetype": "text/x-python",
   "name": "python",
   "nbconvert_exporter": "python",
   "pygments_lexer": "ipython3",
   "version": "3.8.3"
  }
 },
 "nbformat": 4,
 "nbformat_minor": 4
}
