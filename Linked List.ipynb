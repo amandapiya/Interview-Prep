{
 "cells": [
  {
   "cell_type": "markdown",
   "metadata": {},
   "source": [
    "# Reverse a linked list\n",
    "Notes: Iterative and Recursive"
   ]
  },
  {
   "cell_type": "code",
   "execution_count": 17,
   "metadata": {},
   "outputs": [],
   "source": [
    "def reverseList(self, head):\n",
    "        \"\"\"\n",
    "        :type head: ListNode\n",
    "        :rtype: ListNode\n",
    "        \"\"\"\n",
    "        prev = None\n",
    "        while head:\n",
    "            curr = head\n",
    "            head = head.next\n",
    "            curr.next = prev\n",
    "            prev = curr\n",
    "        return prev\n",
    "    \n",
    "def alt(self, head):\n",
    "    curr, prev = head, None\n",
    "    while curr:\n",
    "        curr.next, prev, curr = prev, curr, curr.next\n",
    "    return prev"
   ]
  },
  {
   "cell_type": "markdown",
   "metadata": {},
   "source": [
    "# Add Two Numbers\n",
    "You are given two non-empty linked lists representing two non-negative integers. The digits are stored in reverse order and each of their nodes contain a single digit. Add the two numbers and return it as a linked list.\n",
    "\n",
    "Input: 2 -> 4 -> 3,  5 -> 6 -> 4\n",
    "Output: 7 -> 0 -> 8\n",
    "\n",
    "Explanation: 342 + 465 = 807\n",
    "\n",
    "Note: How to get Tens digit (//= 10)"
   ]
  },
  {
   "cell_type": "code",
   "execution_count": 8,
   "metadata": {},
   "outputs": [],
   "source": [
    "def addTwoNumbers(self, l1, l2):\n",
    "    \"\"\"\n",
    "    :type l1: ListNode\n",
    "    :type l2: ListNode\n",
    "    :rtype: ListNode\n",
    "    \"\"\"\n",
    "    total = curr = ListNode(0)\n",
    "    v1 = v2 = sum = 0\n",
    "    while l1 or l2:\n",
    "        sum //= 10\n",
    "        if l1:\n",
    "            sum += l1.val\n",
    "            l1 = l1.next\n",
    "        if l2:\n",
    "            sum += l2.val\n",
    "            l2 = l2.next    \n",
    "        curr.next = ListNode(sum%10)\n",
    "        curr = curr.next\n",
    "    if sum / 10 >= 1:\n",
    "        curr.next = ListNode(1)\n",
    "    return total.next\n"
   ]
  },
  {
   "cell_type": "markdown",
   "metadata": {},
   "source": [
    "# Swap Nodes in Pairs\n",
    "Given a linked list, swap every two adjacent nodes and return its head.\n",
    "Given 1->2->3->4, you should return the list as 2->1->4->3.\n",
    "\n",
    "Note: Dummy Head, updating values at the same time"
   ]
  },
  {
   "cell_type": "code",
   "execution_count": 9,
   "metadata": {},
   "outputs": [],
   "source": [
    "def swapPairs(self, head):\n",
    "        \"\"\"\n",
    "        :type head: ListNode\n",
    "        :rtype: ListNode\n",
    "        \"\"\"\n",
    "        ans = curr = ListNode(0)\n",
    "        curr.next = head\n",
    "        while curr.next and curr.next.next: \n",
    "            a = curr.next\n",
    "            b = a.next\n",
    "            curr.next, b.next, a.next = b, a, b.next\n",
    "            curr = a\n",
    "        return ans.next"
   ]
  },
  {
   "cell_type": "markdown",
   "metadata": {},
   "source": [
    "# Intersection of Two Linked Lists\n",
    "Note: Good to Review (Logic)"
   ]
  },
  {
   "cell_type": "code",
   "execution_count": 18,
   "metadata": {},
   "outputs": [],
   "source": [
    "def getIntersectionNode(self, headA, headB):\n",
    "    \"\"\"\n",
    "    :type head1, head1: ListNode\n",
    "    :rtype: ListNode\n",
    "    \"\"\"\n",
    "\n",
    "    tempA, tempB = headA, headB\n",
    "    while tempA is not tempB:  \n",
    "        if not tempA:\n",
    "            tempA = headB\n",
    "        else:\n",
    "            tempA = tempA.next\n",
    "        if not tempB:\n",
    "            tempB = headA   \n",
    "        else:\n",
    "            tempB = tempB.next\n",
    "    return tempA\n",
    "\n",
    "    tempA = tempA.next if tempA else headB\n",
    "    tempB = tempB.next if tempB else headA"
   ]
  },
  {
   "cell_type": "markdown",
   "metadata": {},
   "source": [
    "# Remove Duplicates from Sorted List II\n",
    "Note: Debugging Nightmare"
   ]
  },
  {
   "cell_type": "code",
   "execution_count": 19,
   "metadata": {},
   "outputs": [],
   "source": [
    "def deleteDuplicates(self, head):\n",
    "    \"\"\"\n",
    "    :type head: ListNode\n",
    "    :rtype: ListNode\n",
    "    \"\"\"\n",
    "    dummy = lag = ListNode(0)\n",
    "    dummy.next = head        \n",
    "    while head and head.next:\n",
    "        if head.val == head.next.val:\n",
    "            while head.next and head.val == head.next.val:\n",
    "                head = head.next                \n",
    "            lag.next = head.next\n",
    "        else:\n",
    "            lag = lag.next\n",
    "        head = head.next\n",
    "    return dummy.next"
   ]
  },
  {
   "cell_type": "markdown",
   "metadata": {},
   "source": [
    "# Merge Two Sorted Lists\n",
    "Input: 1->2->4, 1->3->4\n",
    "Output: 1->1->2->3->4->4\n",
    "\n",
    "Note: < is faster than <=, add end of list shortcut n.next = l1 or l2\n"
   ]
  },
  {
   "cell_type": "code",
   "execution_count": 10,
   "metadata": {},
   "outputs": [],
   "source": [
    "def mergeTwoLists(self, l1, l2):\n",
    "        \"\"\"\n",
    "        :type l1: ListNode\n",
    "        :type l2: ListNode\n",
    "        :rtype: ListNode\n",
    "        \"\"\"\n",
    "        ans = curr = ListNode(0)\n",
    "        while l1 and l2:\n",
    "            if l1.val < l2.val:\n",
    "                curr.next = l1\n",
    "                l1 = l1.next\n",
    "            else:\n",
    "                curr.next = l2\n",
    "                l2 = l2.next\n",
    "            curr = curr.next\n",
    "        curr.next = l1 or l2\n",
    "        return ans.next\n",
    "    "
   ]
  },
  {
   "cell_type": "markdown",
   "metadata": {},
   "source": [
    "# Rotate List\n",
    "Input: 1->2->3->4->5->NULL, k = 2\n",
    "Output: 4->5->1->2->3->NULL\n",
    "\n",
    "Note: Good to review"
   ]
  },
  {
   "cell_type": "code",
   "execution_count": 11,
   "metadata": {},
   "outputs": [],
   "source": [
    "def rotateRight(self, head, k):\n",
    "        \"\"\"\n",
    "        :type head: ListNode\n",
    "        :type k: int\n",
    "        :rtype: ListNode\n",
    "        \"\"\"\n",
    "        len = 0\n",
    "        lencounter = ListNode(0)\n",
    "        lencounter.next = tail = trail = head\n",
    "        \n",
    "        while lencounter:\n",
    "            len+=1\n",
    "            trail = trail.next\n",
    "            lencounter = lencounter.next\n",
    "            \n",
    "        if len < 1 or k%len == 0:\n",
    "            return head\n",
    "        \n",
    "        for i in range(0, len - k%len - 1):\n",
    "            tail = tail.next\n",
    "        \n",
    "        ans, trail.next, tail.next  = tail.next, head, None\n",
    "        \n",
    "        return ans\n",
    "        "
   ]
  },
  {
   "cell_type": "markdown",
   "metadata": {},
   "source": [
    "# Cycle\n",
    "Notes: is operator (same item in memory)"
   ]
  },
  {
   "cell_type": "code",
   "execution_count": 13,
   "metadata": {},
   "outputs": [],
   "source": [
    "def hasCycle(self, head):\n",
    "    \"\"\"\n",
    "    :type head: ListNode\n",
    "    :rtype: bool\n",
    "    \"\"\"\n",
    "    lag = fast = head\n",
    "    while fast and fast.next:\n",
    "        lag = lag.next\n",
    "        fast = fast.next.next\n",
    "        if lag is fast:\n",
    "            return True            \n",
    "    return False"
   ]
  },
  {
   "cell_type": "markdown",
   "metadata": {},
   "source": [
    "# Odd Even Linked List\n",
    "Input: 1->2->3->4->5->NULL\n",
    "Output: 1->3->5->2->4->NULL\n",
    "\n",
    "Note: join 2 halves of list\n"
   ]
  },
  {
   "cell_type": "code",
   "execution_count": null,
   "metadata": {},
   "outputs": [],
   "source": [
    "def oddEvenList(self, head):\n",
    "    \"\"\"\n",
    "    :type head: ListNode\n",
    "    :rtype: ListNode\n",
    "    \"\"\"\n",
    "    Ohead = odd = ListNode(0)\n",
    "    Ehead = even = ListNode(0)\n",
    "    while head:\n",
    "        odd.next, even.next = head, head.next\n",
    "        odd, even = odd.next, even.next\n",
    "        head = head.next.next if even else None\n",
    "    odd.next = Ehead.next            \n",
    "    return Ohead.next"
   ]
  }
 ],
 "metadata": {
  "kernelspec": {
   "display_name": "Python 3",
   "language": "python",
   "name": "python3"
  },
  "language_info": {
   "codemirror_mode": {
    "name": "ipython",
    "version": 3
   },
   "file_extension": ".py",
   "mimetype": "text/x-python",
   "name": "python",
   "nbconvert_exporter": "python",
   "pygments_lexer": "ipython3",
   "version": "3.8.3"
  }
 },
 "nbformat": 4,
 "nbformat_minor": 4
}
