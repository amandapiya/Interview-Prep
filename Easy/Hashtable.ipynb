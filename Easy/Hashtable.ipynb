{
 "cells": [
  {
   "cell_type": "markdown",
   "metadata": {},
   "source": [
    "# Find a pair with given sum\n",
    "Given an array of size n and a number x, determine the first two elements in the array, if any, whose sum is exactly x.\n",
    "\n",
    "[3, 2, 6, 9, 5], x = 9 : Returns (3, 6)\n",
    "\n",
    "[10, 1, 5], x = 7 : Returns null\n",
    "\n",
    "[], x = 2 : Returns null\n",
    "\n",
    "[1, 5, 2, 4], x = 6 : Returns (1, 5)\n"
   ]
  },
  {
   "cell_type": "code",
   "execution_count": 1,
   "metadata": {},
   "outputs": [],
   "source": [
    "def find_sum_pair():\n",
    "    list = []\n",
    "    for i in arr:\n",
    "        if i in list:\n",
    "            return {i, sum-i}\n",
    "        else:\t\n",
    "            list.append(sum - i)\n",
    "    return null"
   ]
  },
  {
   "cell_type": "markdown",
   "metadata": {},
   "source": [
    "# Find the element that appears k number of times in an array.\n",
    "Input: [8, 7, 9, 6, 7, 5, 1], k = 2\n",
    "\n",
    "Output: 7\n",
    "\n",
    "input = [8, 7, 9, 6, 7, 5, 1]\n",
    "\n",
    "k = 2\n"
   ]
  },
  {
   "cell_type": "markdown",
   "metadata": {},
   "source": [
    "1. sort, then iterate\t\t[not verified]\n",
    "\n",
    "Time: n log n\n",
    "\n",
    "Space: 1\n"
   ]
  },
  {
   "cell_type": "raw",
   "metadata": {},
   "source": [
    "input.sort()\n",
    "count = 0\n",
    "for i, num in enumerate(input):\n",
    "  if i == 0 or input[i] == input[i-1]:\n",
    "    count += 1\n",
    "  else:\n",
    "    if count == k:\n",
    "      print(input[i-1])\n",
    "      count = 0\n"
   ]
  },
  {
   "cell_type": "markdown",
   "metadata": {},
   "source": [
    "2. hashmap\n",
    "\n",
    "Time: n (log n)^2\t\t[not verified]\n",
    "\n",
    "Space: log n\n"
   ]
  },
  {
   "cell_type": "raw",
   "metadata": {},
   "source": [
    "map = {}\n",
    "for i in input:\n",
    "  temp = map.get(i)\n",
    "  if temp is None:\n",
    "    temp = 0\n",
    "  temp += 1\n",
    "  map[i] = temp\n",
    "\n",
    "for key, value in map.items():\n",
    "   if value == k:\n",
    "     print(key)\n"
   ]
  },
  {
   "cell_type": "markdown",
   "metadata": {},
   "source": [
    "# Intersection of 2 lists\n",
    "\n",
    "3. convert set1 to hashset, add found in both to list O(n)\n",
    "1. binary search 1 set into another, add to hashset when found O(nlogn)\n",
    "2. sort twice, use pointers O(nlogn)"
   ]
  },
  {
   "cell_type": "code",
   "execution_count": null,
   "metadata": {},
   "outputs": [],
   "source": []
  },
  {
   "cell_type": "markdown",
   "metadata": {},
   "source": [
    "# Longest Substring Without Repeating Characters\n",
    "Given a string, find the length of the longest substring without repeating characters.\n"
   ]
  },
  {
   "cell_type": "code",
   "execution_count": 1,
   "metadata": {},
   "outputs": [],
   "source": [
    "def lengthOfLongestSubstring(self, s):\n",
    "        \"\"\"\n",
    "        :type s: str\n",
    "        :rtype: int\n",
    "        \"\"\"\n",
    "        dicts = {}\n",
    "        maxlength = start = 0\n",
    "        for i,char in enumerate(s):\n",
    "            if char in dicts:\n",
    "                start = max(dicts[char] + 1, start)\n",
    "            maxlength = max(maxlength, i - start + 1)\n",
    "            dicts[char] = i\n",
    "        return maxlength"
   ]
  },
  {
   "cell_type": "code",
   "execution_count": null,
   "metadata": {},
   "outputs": [],
   "source": []
  }
 ],
 "metadata": {
  "kernelspec": {
   "display_name": "Python 3",
   "language": "python",
   "name": "python3"
  },
  "language_info": {
   "codemirror_mode": {
    "name": "ipython",
    "version": 3
   },
   "file_extension": ".py",
   "mimetype": "text/x-python",
   "name": "python",
   "nbconvert_exporter": "python",
   "pygments_lexer": "ipython3",
   "version": "3.8.3"
  }
 },
 "nbformat": 4,
 "nbformat_minor": 4
}
